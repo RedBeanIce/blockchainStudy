{
 "cells": [
  {
   "cell_type": "code",
   "execution_count": 1,
   "metadata": {},
   "outputs": [
    {
     "name": "stdout",
     "output_type": "stream",
     "text": [
      "<class 'tuple'>\n",
      "<class 'str'>\n"
     ]
    }
   ],
   "source": [
    "t = 'a',\n",
    "a = 'a'\n",
    "print(type(t))\n",
    "print(type(a))\n"
   ]
  },
  {
   "cell_type": "code",
   "execution_count": 2,
   "metadata": {},
   "outputs": [
    {
     "name": "stdout",
     "output_type": "stream",
     "text": [
      "['__add__', '__class__', '__contains__', '__delattr__', '__dir__', '__doc__', '__eq__', '__format__', '__ge__', '__getattribute__', '__getitem__', '__getnewargs__', '__gt__', '__hash__', '__init__', '__init_subclass__', '__iter__', '__le__', '__len__', '__lt__', '__mul__', '__ne__', '__new__', '__reduce__', '__reduce_ex__', '__repr__', '__rmul__', '__setattr__', '__sizeof__', '__str__', '__subclasshook__', 'count', 'index']\n"
     ]
    }
   ],
   "source": [
    "print(dir(t))"
   ]
  },
  {
   "cell_type": "code",
   "execution_count": 4,
   "metadata": {},
   "outputs": [
    {
     "name": "stdout",
     "output_type": "stream",
     "text": [
      "[]\n",
      "[(3, 'but')]\n",
      "[(3, 'but'), (4, 'soft')]\n",
      "[(3, 'but'), (4, 'soft'), (4, 'what')]\n",
      "[(3, 'but'), (4, 'soft'), (4, 'what'), (5, 'light')]\n",
      "[(3, 'but'), (4, 'soft'), (4, 'what'), (5, 'light'), (2, 'in')]\n",
      "[(3, 'but'), (4, 'soft'), (4, 'what'), (5, 'light'), (2, 'in'), (6, 'yonder')]\n",
      "[(3, 'but'), (4, 'soft'), (4, 'what'), (5, 'light'), (2, 'in'), (6, 'yonder'), (6, 'window')]\n"
     ]
    }
   ],
   "source": [
    "txt = txt = 'but soft what light in yonder window breaks'\n",
    "words = txt.split()\n",
    "t = list()\n",
    "for word in words:\n",
    "    print(t)\n",
    "    t.append((len(word), word))"
   ]
  },
  {
   "cell_type": "code",
   "execution_count": 7,
   "metadata": {},
   "outputs": [
    {
     "name": "stdout",
     "output_type": "stream",
     "text": [
      "[(2, 'in'), (3, 'but'), (4, 'soft'), (4, 'what'), (5, 'light'), (6, 'breaks'), (6, 'window'), (6, 'yonder')]\n"
     ]
    }
   ],
   "source": [
    "t.sort()\n",
    "print(t)\n",
    "# 가장 긴 단어부터 정렬"
   ]
  },
  {
   "cell_type": "code",
   "execution_count": 8,
   "metadata": {},
   "outputs": [
    {
     "name": "stdout",
     "output_type": "stream",
     "text": [
      "['in', 'but', 'soft', 'what', 'light', 'breaks', 'window', 'yonder']\n"
     ]
    }
   ],
   "source": [
    "r = list()\n",
    "for length, word in t:\n",
    "    r.append(word)\n",
    "\n",
    "print(r)"
   ]
  },
  {
   "cell_type": "code",
   "execution_count": 9,
   "metadata": {},
   "outputs": [],
   "source": [
    "m = ['have', 'fun']\n",
    "\n",
    "(x, y) = m"
   ]
  },
  {
   "cell_type": "code",
   "execution_count": 10,
   "metadata": {},
   "outputs": [
    {
     "data": {
      "text/plain": [
       "'have'"
      ]
     },
     "execution_count": 10,
     "metadata": {},
     "output_type": "execute_result"
    }
   ],
   "source": [
    "print(x)"
   ]
  },
  {
   "cell_type": "code",
   "execution_count": 11,
   "metadata": {},
   "outputs": [
    {
     "name": "stdout",
     "output_type": "stream",
     "text": [
      "have fun\n"
     ]
    }
   ],
   "source": [
    "print(x, y)"
   ]
  },
  {
   "cell_type": "code",
   "execution_count": 12,
   "metadata": {},
   "outputs": [
    {
     "name": "stdout",
     "output_type": "stream",
     "text": [
      "have fun\n"
     ]
    }
   ],
   "source": [
    "a, b = m\n",
    "print(a, b)"
   ]
  },
  {
   "cell_type": "code",
   "execution_count": 13,
   "metadata": {},
   "outputs": [
    {
     "name": "stdout",
     "output_type": "stream",
     "text": [
      "fun have\n"
     ]
    }
   ],
   "source": [
    "a, b = b, a\n",
    "print(a, b)"
   ]
  },
  {
   "cell_type": "code",
   "execution_count": 14,
   "metadata": {},
   "outputs": [],
   "source": [
    "addr = 'monhy@python.org'\n",
    "id, domain = tuple(addr.split('@'))"
   ]
  },
  {
   "cell_type": "code",
   "execution_count": 15,
   "metadata": {},
   "outputs": [
    {
     "name": "stdout",
     "output_type": "stream",
     "text": [
      "monhy python.org\n"
     ]
    }
   ],
   "source": [
    "print(id, domain)"
   ]
  },
  {
   "cell_type": "code",
   "execution_count": 17,
   "metadata": {},
   "outputs": [
    {
     "name": "stdout",
     "output_type": "stream",
     "text": [
      "dict_items([('a', 10), ('b', 1), ('c', 22)])\n"
     ]
    }
   ],
   "source": [
    "d={'a':10, 'b':1, 'c':22}\n",
    "t = d.items() # 리스트 안에 튜플의 키, 값이 들어가는 형태로 딕셔너리 내용을 반환한다.\n",
    "print(t)"
   ]
  },
  {
   "cell_type": "code",
   "execution_count": 22,
   "metadata": {},
   "outputs": [
    {
     "name": "stdout",
     "output_type": "stream",
     "text": [
      "a 10\n",
      "b 1\n",
      "c 22\n"
     ]
    }
   ],
   "source": [
    "for key, val in d.items():\n",
    "    print(key, val)"
   ]
  },
  {
   "cell_type": "code",
   "execution_count": 24,
   "metadata": {},
   "outputs": [],
   "source": [
    "r = list()"
   ]
  },
  {
   "cell_type": "code",
   "execution_count": 25,
   "metadata": {},
   "outputs": [
    {
     "ename": "TypeError",
     "evalue": "'str' object does not support item assignment",
     "output_type": "error",
     "traceback": [
      "\u001b[1;31m---------------------------------------------------------------------------\u001b[0m",
      "\u001b[1;31mTypeError\u001b[0m                                 Traceback (most recent call last)",
      "\u001b[1;32m<ipython-input-25-891506f925c0>\u001b[0m in \u001b[0;36m<module>\u001b[1;34m\u001b[0m\n\u001b[0;32m      1\u001b[0m \u001b[0mw\u001b[0m \u001b[1;33m=\u001b[0m \u001b[1;34m'feeling'\u001b[0m\u001b[1;33m\u001b[0m\u001b[1;33m\u001b[0m\u001b[0m\n\u001b[1;32m----> 2\u001b[1;33m \u001b[0mw\u001b[0m\u001b[1;33m[\u001b[0m\u001b[1;36m4\u001b[0m\u001b[1;33m]\u001b[0m \u001b[1;33m=\u001b[0m \u001b[1;34m'a'\u001b[0m\u001b[1;33m\u001b[0m\u001b[1;33m\u001b[0m\u001b[0m\n\u001b[0m\u001b[0;32m      3\u001b[0m \u001b[0mw\u001b[0m\u001b[1;33m\u001b[0m\u001b[1;33m\u001b[0m\u001b[0m\n",
      "\u001b[1;31mTypeError\u001b[0m: 'str' object does not support item assignment"
     ]
    }
   ],
   "source": [
    "w = 'feeling'\n",
    "w[4] = 'a'\n",
    "w"
   ]
  },
  {
   "cell_type": "code",
   "execution_count": 51,
   "metadata": {},
   "outputs": [
    {
     "name": "stdout",
     "output_type": "stream",
     "text": [
      "zqian@umich.edu 195\n",
      "mmmay@indiana.edu 161\n",
      "cwen@iupui.edu 158\n",
      "chmaurer@iupui.edu 111\n",
      "aaronz@vt.edu 110\n",
      "ian@caret.cam.ac.uk 96\n",
      "jimeng@umich.edu 93\n",
      "rjlowe@iupui.edu 90\n",
      "dlhaines@umich.edu 84\n",
      "david.horwitz@uct.ac.za 67\n",
      "ajpoland@iupui.edu 48\n",
      "wagnermr@iupui.edu 44\n",
      "gjthomas@iupui.edu 44\n",
      "sgithens@caret.cam.ac.uk 43\n",
      "ray@media.berkeley.edu 32\n",
      "stephen.marquard@uct.ac.za 29\n",
      "nuno@ufp.pt 28\n",
      "josrodri@iupui.edu 28\n",
      "gsilver@umich.edu 28\n",
      "bkirschn@umich.edu 27\n",
      "arwhyte@umich.edu 27\n",
      "gopal.ramasammycook@gmail.com 25\n",
      "louis@media.berkeley.edu 24\n",
      "csev@umich.edu 19\n",
      "antranig@caret.cam.ac.uk 18\n",
      "zach.thomas@txstate.edu 17\n",
      "stuart.freeman@et.gatech.edu 17\n",
      "ostermmg@whitman.edu 17\n",
      "kimsooil@bu.edu 14\n",
      "a.fish@lancaster.ac.uk 14\n",
      "ktsao@stanford.edu 12\n",
      "mbreuker@loi.nl 9\n",
      "jzaremba@unicon.net 9\n",
      "lance@indiana.edu 8\n",
      "john.ellis@rsmart.com 8\n",
      "ggolden@umich.edu 8\n",
      "hu2@iupui.edu 7\n",
      "tnguyen@iupui.edu 6\n",
      "ssmail@indiana.edu 5\n",
      "knoop@umich.edu 5\n",
      "bahollad@indiana.edu 4\n",
      "gbhatnag@umich.edu 3\n",
      "jleasia@umich.edu 2\n",
      "thoppaymallika@fhda.edu 1\n",
      "jlrenfro@ucdavis.edu 1\n",
      "colin.clark@utoronto.ca 1\n",
      "zqian@umich.edu\n"
     ]
    }
   ],
   "source": [
    "d = dict()\n",
    "fh = open('mbox.txt')\n",
    "# file open\n",
    "\n",
    "# sample From stephen.marquard@uct.ac.za Sat Jan  5 09:14:16 2008\n",
    "\n",
    "for line in fh:\n",
    "    if line.startswith('From '):\n",
    "        \n",
    "        d[line.split()[1]] = d.get(line.split()[1], 0) + 1\n",
    "        # d.get (line.split()[1], 0) 이 필요한 이유는 아무것도 없을 때 초기값을 0으로 넣어준다는 의미이기 때문이다.\n",
    "        \n",
    "\n",
    "        \n",
    "tempData = list(zip(d.values(), d.keys()))\n",
    "tempData.sort(reverse = True)\n",
    "\n",
    "#for i in tempData:\n",
    "#    print(i[1], i[0])\n",
    "\n",
    "print(tempData[0][1])\n",
    "\n",
    "fh.close()\n",
    "        "
   ]
  },
  {
   "cell_type": "code",
   "execution_count": 54,
   "metadata": {},
   "outputs": [
    {
     "name": "stdout",
     "output_type": "stream",
     "text": [
      "{'09': 166, '18': 58, '16': 181, '15': 152, '14': 150, '11': 154, '10': 198, '07': 42, '06': 45, '04': 23, '19': 46, '17': 97, '13': 114, '12': 108, '08': 72, '05': 10, '03': 19, '02': 11, '20': 36, '22': 28, '21': 36, '23': 18, '00': 23, '01': 10}\n"
     ]
    }
   ],
   "source": [
    "d = dict()\n",
    "fh = open('mbox.txt')\n",
    "\n",
    "# sample Data) From stephen.marquard@uct.ac.za Sat Jan  5 09:14:16 2008\n",
    "\n",
    "for line in fh:\n",
    "    if line.startswith('From '):\n",
    "        \n",
    "        d[line.split()[5].split(':')[0]] = d.get(line.split()[5].split(':')[0], 0) + 1\n",
    "        \n",
    "print(d)\n",
    "        "
   ]
  },
  {
   "cell_type": "code",
   "execution_count": 56,
   "metadata": {},
   "outputs": [],
   "source": [
    "tempData = list(zip(d.keys(), d.values()))\n",
    "tempData.sort()"
   ]
  },
  {
   "cell_type": "code",
   "execution_count": 57,
   "metadata": {},
   "outputs": [
    {
     "name": "stdout",
     "output_type": "stream",
     "text": [
      "00 23\n",
      "01 10\n",
      "02 11\n",
      "03 19\n",
      "04 23\n",
      "05 10\n",
      "06 45\n",
      "07 42\n",
      "08 72\n",
      "09 166\n",
      "10 198\n",
      "11 154\n",
      "12 108\n",
      "13 114\n",
      "14 150\n",
      "15 152\n",
      "16 181\n",
      "17 97\n",
      "18 58\n",
      "19 46\n",
      "20 36\n",
      "21 36\n",
      "22 28\n",
      "23 18\n"
     ]
    }
   ],
   "source": [
    "for i in tempData:\n",
    "    print(i[0], i[1])\n",
    "\n",
    "fh.close()"
   ]
  },
  {
   "cell_type": "code",
   "execution_count": 97,
   "metadata": {},
   "outputs": [],
   "source": [
    "fh = open('mbox.txt')\n",
    "td = dict()\n",
    "\n",
    "for line in fh:\n",
    "    \n",
    "    for letter in line:\n",
    "        \n",
    "        letter = letter.lower()\n",
    "        \n",
    "        if 'a' <= letter and letter <= 'z':\n",
    "            td[letter] = td.get(letter, 0) + 1\n",
    "        \n",
    "\n",
    "tempDataAlpa = list(zip(td.keys(), td.values()))\n",
    "tempDataAlpa.sort()\n",
    "\n",
    "tempDataFre = list(zip(td.values(), td.keys()))\n",
    "tempDataFre.sort()\n"
   ]
  },
  {
   "cell_type": "code",
   "execution_count": 98,
   "metadata": {},
   "outputs": [
    {
     "name": "stdout",
     "output_type": "stream",
     "text": [
      "3795 = z\n",
      "4087 = q\n",
      "34011 = x\n",
      "46893 = w\n",
      "48157 = y\n",
      "51155 = j\n",
      "68698 = g\n",
      "74252 = f\n",
      "74757 = v\n",
      "85569 = b\n",
      "87160 = k\n",
      "104017 = h\n",
      "144889 = l\n",
      "148380 = d\n",
      "168447 = p\n",
      "178115 = m\n",
      "190902 = n\n",
      "212537 = u\n",
      "238115 = c\n",
      "276247 = s\n",
      "281859 = r\n",
      "302616 = t\n",
      "309157 = o\n",
      "316771 = i\n",
      "355337 = a\n",
      "404033 = e\n",
      "\n",
      "a == 355337\n",
      "b == 85569\n",
      "c == 238115\n",
      "d == 148380\n",
      "e == 404033\n",
      "f == 74252\n",
      "g == 68698\n",
      "h == 104017\n",
      "i == 316771\n",
      "j == 51155\n",
      "k == 87160\n",
      "l == 144889\n",
      "m == 178115\n",
      "n == 190902\n",
      "o == 309157\n",
      "p == 168447\n",
      "q == 4087\n",
      "r == 281859\n",
      "s == 276247\n",
      "t == 302616\n",
      "u == 212537\n",
      "v == 74757\n",
      "w == 46893\n",
      "x == 34011\n",
      "y == 48157\n",
      "z == 3795\n"
     ]
    }
   ],
   "source": [
    "for i in tempDataFre:\n",
    "    print(i[0],'=', i[1])\n",
    "\n",
    "print()\n",
    "\n",
    "for z in tempDataAlpa:\n",
    "    print(z[0], '==', z[1])\n",
    "\n",
    "fh.close()"
   ]
  },
  {
   "cell_type": "code",
   "execution_count": 106,
   "metadata": {},
   "outputs": [
    {
     "name": "stdout",
     "output_type": "stream",
     "text": [
      "1798\n"
     ]
    }
   ],
   "source": [
    "import re\n",
    "\n",
    "fh = open('mbox.txt')\n",
    "count=0\n",
    "\n",
    "\n",
    "for line in fh:\n",
    "    \n",
    "    line.rstrip()\n",
    "    \n",
    "    if re.search('From ', line):\n",
    "        count = count + 1\n",
    "\n",
    "print(count)\n",
    "fh.close()"
   ]
  },
  {
   "cell_type": "code",
   "execution_count": 181,
   "metadata": {},
   "outputs": [
    {
     "name": "stdout",
     "output_type": "stream",
     "text": [
      "38549.79497206704\n"
     ]
    }
   ],
   "source": [
    "fh = open('mbox.txt', 'r')\n",
    "\n",
    "\n",
    "# 다음 형식의 라인만을 찾는 프로그램을 작성하세요.\n",
    "# New Revision: 39772\n",
    "# 그리고, 정규 표현식과 findall() 메쏘드를 사용하여 각 라인으로부터 숫자를\n",
    "#추출하세요. 숫자들의 평균을 구하고 출력하세요.\n",
    "\n",
    "\n",
    "numList = list()\n",
    "\n",
    "\n",
    "for line in fh:\n",
    "    \n",
    "    line = line.rstrip()\n",
    "    \n",
    "    if re.findall('^New Revision: ', line):\n",
    "        ss = re.findall('[0-9.]+', line)\n",
    "        ss = int(ss[0])\n",
    "        numList.append(ss)\n",
    "\n",
    "\n",
    "count = 0\n",
    "sum2 = 0\n",
    "\n",
    "\n",
    "for i in numList:\n",
    "    sum2 += i\n",
    "    count += 1\n",
    "\n",
    "print(sum2/count)\n",
    "\n",
    "\n",
    "fh.close()\n"
   ]
  },
  {
   "cell_type": "code",
   "execution_count": 189,
   "metadata": {},
   "outputs": [
    {
     "name": "stdout",
     "output_type": "stream",
     "text": [
      "<class 'str'>\n"
     ]
    }
   ],
   "source": [
    "fh = open('mbox.txt')\n",
    "\n",
    "data = fh.read()\n",
    "print(type(data))\n",
    "\n",
    "test = re.findall('^New\\$[0-9]+', data)\n",
    "\n",
    "\n",
    "fh.close()"
   ]
  },
  {
   "cell_type": "code",
   "execution_count": 188,
   "metadata": {},
   "outputs": [
    {
     "name": "stdout",
     "output_type": "stream",
     "text": [
      "[]\n"
     ]
    }
   ],
   "source": [
    "print(test)"
   ]
  },
  {
   "cell_type": "code",
   "execution_count": 211,
   "metadata": {},
   "outputs": [
    {
     "name": "stdout",
     "output_type": "stream",
     "text": [
      "b'HTTP/1.1 200 OK\\r\\nDate: Tue, 14 Jul 2020 06:33:45 GMT\\r\\nServer: Apache/2.4.18 (Ubuntu)\\r\\nLast-Modified: Sat, 13 May 2017 11:22:22 GMT\\r\\nETag: \"a7-54f6609245537\"\\r\\nAccept-Ranges: bytes\\r\\nContent-Length: 167\\r\\nCache-Control: max-age=0, no-cache, no-store, must-revalidate\\r\\nPragma: no-cache\\r\\nExpires: Wed, 11 Jan 1984 05:00:00 GMT\\r\\nConnection: close\\r\\nContent-Type: text/plain\\r\\n\\r\\nBut soft what light through yonder window breaks\\nIt is the east and Juliet is the sun\\nArise fair sun and kill the envious moon\\nWho is already s'\n",
      "b'ick and pale with grief\\n'\n"
     ]
    }
   ],
   "source": [
    "import socket\n",
    "\n",
    "mysock = socket.socket(socket.AF_INET, socket.SOCK_STREAM)\n",
    "mysock.connect(('data.pr4e.org', 80))\n",
    "cmd = 'GET http://data.pr4e.org/romeo.txt HTTP/1.0\\r\\n\\r\\n'.encode()\n",
    "mysock.send(cmd)\n",
    "\n",
    "while True:\n",
    "    data = mysock.recv(512)\n",
    "    \n",
    "    if ( len(data) < 1 ) :\n",
    "        break\n",
    "        \n",
    "    print(data)\n",
    "\n",
    "mysock.close()"
   ]
  },
  {
   "cell_type": "code",
   "execution_count": 235,
   "metadata": {},
   "outputs": [
    {
     "name": "stdout",
     "output_type": "stream",
     "text": [
      "['kasdfasdfsd 100', 'kkdfjasldkfjaslkdfj 200', 'klafjdlkf 200', 'kkkaaasdf 300', 'kafasdfasdf 300']\n",
      "<class 'list'>\n",
      "kasdfasdfsd 100\n"
     ]
    }
   ],
   "source": [
    "testhd = open('kimTest')\n",
    "\n",
    "data = testhd.read()\n",
    "\n",
    "#print(type(data))\n",
    "#print(data)\n",
    "\n",
    "reducedData = re.findall('k[a-z]*\\s[0-9.]*',  data)\n",
    "# 리스트로 나오는 이유는 모든 텍스트에서 찾을 때 내가 찾고 싶은 부분이 하나가 아니라 여러 부분이 나올 수 있기 때문이다.\n",
    "\n",
    "print(reducedData)\n",
    "print(type(reducedData))\n",
    "print(reducedData[0])\n"
   ]
  },
  {
   "cell_type": "code",
   "execution_count": 254,
   "metadata": {},
   "outputs": [
    {
     "name": "stdout",
     "output_type": "stream",
     "text": [
      "But soft what light through yonder window breaks It is the east and Juliet is the sun Arise fair sun and kill the envious moon Who is already sick and pale with grief \n"
     ]
    }
   ],
   "source": [
    "import urllib\n",
    "fh = urllib.request.urlopen('http://www.py4inf.com/code/romeo.txt')\n",
    "\n",
    "voca = dict()\n",
    "data = ''\n",
    "\n",
    "for line in fh:\n",
    "    #print(line.decode().strip()) # binary 값을 아스키 값으로 바꾸기 위해 decode 를 한다.\n",
    "    \n",
    "    data = data + line.decode().strip() + ' '\n",
    "\n",
    "print(data)"
   ]
  },
  {
   "cell_type": "code",
   "execution_count": 255,
   "metadata": {},
   "outputs": [
    {
     "name": "stdout",
     "output_type": "stream",
     "text": [
      "{'But': 1, 'soft': 1, 'what': 1, 'light': 1, 'through': 1, 'yonder': 1, 'window': 1, 'breaks': 1, 'It': 1, 'is': 3, 'the': 3, 'east': 1, 'and': 3, 'Juliet': 1, 'sun': 2, 'Arise': 1, 'fair': 1, 'kill': 1, 'envious': 1, 'moon': 1, 'Who': 1, 'already': 1, 'sick': 1, 'pale': 1, 'with': 1, 'grief': 1}\n"
     ]
    }
   ],
   "source": [
    "for value in data.split():\n",
    "    voca[value] = voca.get(value, 0) + 1\n",
    "\n",
    "print(voca)"
   ]
  },
  {
   "cell_type": "code",
   "execution_count": 258,
   "metadata": {},
   "outputs": [
    {
     "name": "stdout",
     "output_type": "stream",
     "text": [
      "the 3\n",
      "is 3\n",
      "and 3\n",
      "sun 2\n",
      "yonder 1\n",
      "with 1\n",
      "window 1\n",
      "what 1\n",
      "through 1\n",
      "soft 1\n",
      "sick 1\n",
      "pale 1\n",
      "moon 1\n",
      "light 1\n",
      "kill 1\n",
      "grief 1\n",
      "fair 1\n",
      "envious 1\n",
      "east 1\n",
      "breaks 1\n",
      "already 1\n",
      "Who 1\n",
      "Juliet 1\n",
      "It 1\n",
      "But 1\n",
      "Arise 1\n"
     ]
    }
   ],
   "source": [
    "showData = list(zip(voca.values(), voca.keys()))\n",
    "showData.sort(reverse = True)\n",
    "# 데이터를 편하게 보기 위해 만들었다.\n",
    "for z in showData:\n",
    "    print(z[1], z[0])"
   ]
  },
  {
   "cell_type": "code",
   "execution_count": 264,
   "metadata": {},
   "outputs": [],
   "source": [
    "from bs4 import BeautifulSoup\n",
    "# pip install beautifulsoup     // 이 라이브러리는 이상한 html에 내성이 있기 때문에 웹에서 크롤링 시 원하는 정보를 바르게 얻을 수 있다.\n",
    "\n",
    "import PIL # pip install pillow 파이썬 이미지 라이브러리 "
   ]
  },
  {
   "cell_type": "code",
   "execution_count": 268,
   "metadata": {},
   "outputs": [
    {
     "name": "stdout",
     "output_type": "stream",
     "text": [
      "#newsstand\n",
      "#themecast\n",
      "#timesquare\n",
      "#shopcast\n",
      "#account\n",
      "https://whale.naver.com/details/translate?=main&wpid=RydDy7\n",
      "http://update.whale.naver.net/downloads/banner/RydDy7/WhaleSetup.exe\n",
      "https://whale.naver.com/details/translate?=main&wpid=RydDy7\n",
      "/\n",
      "https://help.naver.com/support/welcomePage/guide.help\n",
      "https://jr.naver.com\n",
      "https://happybean.naver.com\n",
      "javascript:;\n",
      "javascript:;\n",
      "https://help.naver.com/support/contents/contents.nhn?serviceNo=606&categoryNo=16658\n",
      "#\n",
      "#\n",
      "https://nid.naver.com/nidlogin.login\n",
      "https://help.naver.com/support/alias/search/word/word_16.naver\n",
      "https://help.naver.com/support/contents/contents.nhn?serviceNo=606&categoryNo=16659\n",
      "https://help.naver.com/support/service/main.nhn?serviceNo=606&categoryNo=1987\n",
      "https://help.naver.com/support/contents/contents.nhn?serviceNo=605&categoryNo=18215\n",
      "javascript:;\n",
      "javascript:;\n",
      "https://help.naver.com/support/service/main.nhn?serviceNo=606&categoryNo=1987\n",
      "https://help.naver.com/support/contents/contents.nhn?serviceNo=605&categoryNo=18215\n",
      "javascript:;\n",
      "javascript:;\n",
      "https://help.naver.com/support/service/main.nhn?serviceNo=606&categoryNo=1987\n",
      "https://help.naver.com/support/contents/contents.nhn?serviceNo=605&categoryNo=18215\n",
      "javascript:;\n",
      "javascript:;\n",
      "https://help.naver.com/support/service/main.nhn?serviceNo=606&categoryNo=1987\n",
      "https://help.naver.com/support/contents/contents.nhn?serviceNo=605&categoryNo=18215\n",
      "javascript:;\n",
      "javascript:;\n",
      "javascript:;\n",
      "javascript:;\n",
      "javascript:;\n",
      "javascript:;\n",
      "javascript:;\n",
      "javascript:;\n",
      "javascript:;\n",
      "javascript:;\n",
      "javascript:;\n",
      "javascript:;\n",
      "javascript:;\n",
      "javascript:;\n",
      "javascript:;\n",
      "javascript:;\n",
      "javascript:;\n",
      "javascript:;\n",
      "#\n",
      "https://mail.naver.com/\n",
      "https://section.cafe.naver.com/\n",
      "https://section.blog.naver.com/\n",
      "https://kin.naver.com/\n",
      "https://shopping.naver.com/\n",
      "https://order.pay.naver.com/home\n",
      "https://tv.naver.com/\n",
      "https://dict.naver.com/\n",
      "https://news.naver.com/\n",
      "https://finance.naver.com/\n",
      "https://land.naver.com/\n",
      "https://map.naver.com/\n",
      "https://movie.naver.com/\n",
      "https://vibe.naver.com/?from=naver_main\n",
      "https://book.naver.com/\n",
      "https://comic.naver.com/\n",
      "#\n",
      "more.html\n",
      "#\n",
      "#\n",
      "#\n",
      "http://news.naver.com/main/list.nhn?mode=LPOD&mid=sec&sid1=001&sid2=140&oid=001&isYeonhapFlash=Y\n",
      "http://news.naver.com/main/list.nhn?mode=LPOD&mid=sec&sid1=001&sid2=140&oid=001&isYeonhapFlash=Y&aid=0011745353\n",
      "http://news.naver.com/main/list.nhn?mode=LPOD&mid=sec&sid1=001&sid2=140&oid=001&isYeonhapFlash=Y&aid=0011745350\n",
      "http://news.naver.com/main/list.nhn?mode=LPOD&mid=sec&sid1=001&sid2=140&oid=001&isYeonhapFlash=Y&aid=0011745052\n",
      "http://news.naver.com/main/list.nhn?mode=LPOD&mid=sec&sid1=001&sid2=140&oid=001&isYeonhapFlash=Y&aid=0011745344\n",
      "http://news.naver.com/main/list.nhn?mode=LPOD&mid=sec&sid1=001&sid2=140&oid=001&isYeonhapFlash=Y&aid=0011744945\n",
      "http://news.naver.com/main/list.nhn?mode=LPOD&mid=sec&sid1=001&sid2=140&oid=001&isYeonhapFlash=Y&aid=0011745060\n",
      "http://news.naver.com/main/list.nhn?mode=LPOD&mid=sec&sid1=001&sid2=140&oid=001&isYeonhapFlash=Y&aid=0011745095\n",
      "http://news.naver.com/main/list.nhn?mode=LPOD&mid=sec&sid1=001&sid2=140&oid=001&isYeonhapFlash=Y&aid=0011744751\n",
      "http://news.naver.com/main/list.nhn?mode=LPOD&mid=sec&sid1=001&sid2=140&oid=001&isYeonhapFlash=Y&aid=0011745280\n",
      "http://news.naver.com/main/list.nhn?mode=LPOD&mid=sec&sid1=001&sid2=140&oid=001&isYeonhapFlash=Y&aid=0011745170\n",
      "http://news.naver.com/\n",
      "http://entertain.naver.com/home\n",
      "http://sports.news.naver.com/\n",
      "http://news.naver.com/main/main.nhn?mode=LSD&mid=shm&sid1=101\n",
      "http://newsstand.naver.com/\n",
      "#\n",
      "#\n",
      "#\n",
      "#\n",
      "http://newsstand.naver.com/config.html\n",
      "#\n",
      "#\n",
      "#\n",
      "#\n",
      "#\n",
      "#\n",
      "#\n",
      "#\n",
      "#\n",
      "#\n",
      "#\n",
      "#\n",
      "#\n",
      "#\n",
      "#\n",
      "#\n",
      "#\n",
      "#\n",
      "#\n",
      "http://newsstand.naver.com/?list=&pcode=277\n",
      "#\n",
      "#\n",
      "#\n",
      "http://newsstand.naver.com/?list=&pcode=081\n",
      "#\n",
      "#\n",
      "#\n",
      "http://newsstand.naver.com/?list=&pcode=314\n",
      "#\n",
      "#\n",
      "#\n",
      "http://newsstand.naver.com/?list=&pcode=018\n",
      "#\n",
      "#\n",
      "#\n",
      "http://newsstand.naver.com/?list=&pcode=241\n",
      "#\n",
      "#\n",
      "#\n",
      "http://newsstand.naver.com/?list=&pcode=109\n",
      "#\n",
      "#\n",
      "#\n",
      "http://newsstand.naver.com/?list=&pcode=073\n",
      "#\n",
      "#\n",
      "#\n",
      "http://newsstand.naver.com/?list=&pcode=011\n",
      "#\n",
      "#\n",
      "#\n",
      "http://newsstand.naver.com/?list=&pcode=023\n",
      "#\n",
      "#\n",
      "#\n",
      "http://newsstand.naver.com/?list=&pcode=025\n",
      "#\n",
      "#\n",
      "#\n",
      "http://newsstand.naver.com/?list=&pcode=005\n",
      "#\n",
      "#\n",
      "#\n",
      "http://newsstand.naver.com/?list=&pcode=422\n",
      "#\n",
      "#\n",
      "#\n",
      "http://newsstand.naver.com/?list=&pcode=366\n",
      "#\n",
      "#\n",
      "#\n",
      "http://newsstand.naver.com/?list=&pcode=016\n",
      "#\n",
      "#\n",
      "#\n",
      "http://newsstand.naver.com/?list=&pcode=052\n",
      "#\n",
      "#\n",
      "#\n",
      "http://newsstand.naver.com/?list=&pcode=332\n",
      "#\n",
      "#\n",
      "#\n",
      "http://newsstand.naver.com/?list=&pcode=082\n",
      "#\n",
      "#\n",
      "#\n",
      "http://newsstand.naver.com/?list=&pcode=333\n",
      "#\n",
      "#\n",
      "#\n",
      "http://newsstand.naver.com/?list=&pcode=903\n",
      "#\n",
      "#\n",
      "#\n",
      "http://newsstand.naver.com/?list=&pcode=410\n",
      "#\n",
      "#\n",
      "#\n",
      "http://newsstand.naver.com/?list=&pcode=824\n",
      "#\n",
      "#\n",
      "#\n",
      "http://newsstand.naver.com/?list=&pcode=539\n",
      "#\n",
      "#\n",
      "#\n",
      "http://newsstand.naver.com/?list=&pcode=143\n",
      "#\n",
      "#\n",
      "#\n",
      "http://newsstand.naver.com/?list=&pcode=819\n",
      "#\n",
      "#\n",
      "#\n",
      "#\n",
      "#\n",
      "#\n",
      "#\n",
      "#\n",
      "#\n",
      "#\n",
      "#\n",
      "#\n",
      "#\n",
      "#\n",
      "#\n",
      "#\n",
      "#\n",
      "#\n",
      "#\n",
      "http://newsstand.naver.com/config.html\n",
      "#\n",
      "#\n",
      "#\n",
      "#\n",
      "#\n",
      "#\n",
      "#\n",
      "#\n",
      "#\n",
      "#\n",
      "#\n",
      "#\n",
      "#\n",
      "#\n",
      "#\n",
      "#\n",
      "#\n",
      "#\n",
      "#\n",
      "#\n",
      "#\n",
      "#\n",
      "#\n",
      "#\n",
      "#\n",
      "#\n",
      "#\n",
      "#\n",
      "#\n",
      "#\n",
      "https://post.naver.com/viewer/postView.nhn?volumeNo=28780244&memberNo=38419283\n",
      "https://post.naver.com/viewer/postView.nhn?volumeNo=28780244&memberNo=38419283\n",
      "https://post.naver.com/viewer/postView.nhn?volumeNo=28193833&memberNo=46287382\n",
      "https://post.naver.com/viewer/postView.nhn?volumeNo=28193833&memberNo=46287382\n",
      "https://post.naver.com/viewer/postView.nhn?volumeNo=28770943&memberNo=29949587\n",
      "https://post.naver.com/viewer/postView.nhn?volumeNo=28770943&memberNo=29949587\n",
      "https://post.naver.com/viewer/postView.nhn?volumeNo=28785118&memberNo=38419283\n",
      "https://post.naver.com/viewer/postView.nhn?volumeNo=28785118&memberNo=38419283\n",
      "https://post.naver.com/viewer/postView.nhn?volumeNo=28782659&memberNo=38506\n",
      "https://post.naver.com/viewer/postView.nhn?volumeNo=28782659&memberNo=38506\n",
      "https://blog.naver.com/puni52/222027164075\n",
      "https://blog.naver.com/puni52/222027164075\n",
      "https://blog.naver.com/sugarspice83/222025069908\n",
      "https://blog.naver.com/sugarspice83/222025069908\n",
      "https://blog.naver.com/alsdk8810/222029145534\n",
      "https://blog.naver.com/alsdk8810/222029145534\n",
      "https://tv.naver.com/v/14756830\n",
      "https://m.tv.naver.com/v/14492038\n",
      "https://m.tv.naver.com/v/14751563\n",
      "https://blog.naver.com/chayg5912/222028097081\n",
      "https://blog.naver.com/chayg5912/222028097081\n",
      "https://post.naver.com/viewer/postView.nhn?volumeNo=28763810&memberNo=49500149\n",
      "https://post.naver.com/viewer/postView.nhn?volumeNo=28763810&memberNo=49500149\n",
      "https://post.naver.com/viewer/postView.nhn?volumeNo=28760834&memberNo=1179949\n",
      "https://post.naver.com/viewer/postView.nhn?volumeNo=28760834&memberNo=1179949\n",
      "https://post.naver.com/viewer/postView.nhn?volumeNo=28784551&memberNo=38419283\n",
      "https://post.naver.com/viewer/postView.nhn?volumeNo=28784551&memberNo=38419283\n",
      "https://m.tv.naver.com/v/14634574\n",
      "https://m.tv.naver.com/v/14766998\n",
      "https://m.tv.naver.com/v/14738807\n",
      "https://post.naver.com/viewer/postView.nhn?volumeNo=28746418&memberNo=21959512\n",
      "https://post.naver.com/viewer/postView.nhn?volumeNo=28746418&memberNo=21959512\n",
      "https://post.naver.com/viewer/postView.nhn?volumeNo=28764621&memberNo=46287382\n",
      "https://post.naver.com/viewer/postView.nhn?volumeNo=28764621&memberNo=46287382\n",
      "https://blog.naver.com/jekyll13/222025848789\n",
      "https://blog.naver.com/jekyll13/222025848789\n",
      "https://post.naver.com/viewer/postView.nhn?volumeNo=28744130&memberNo=3830854\n",
      "https://post.naver.com/viewer/postView.nhn?volumeNo=28744130&memberNo=3830854\n",
      "https://blog.naver.com/0815ys/222004713915\n",
      "https://blog.naver.com/0815ys/222004713915\n",
      "https://m.tv.naver.com/v/14738679\n",
      "https://m.tv.naver.com/v/14652393\n",
      "https://m.tv.naver.com/v/14679750\n",
      "https://m.post.naver.com/viewer/postView.nhn?volumeNo=28749933&memberNo=29949587\n",
      "https://m.post.naver.com/viewer/postView.nhn?volumeNo=28749933&memberNo=29949587\n",
      "https://post.naver.com/viewer/postView.nhn?volumeNo=28766200&memberNo=41062464\n",
      "https://post.naver.com/viewer/postView.nhn?volumeNo=28766200&memberNo=41062464\n",
      "https://blog.naver.com/animalandhuman/222012162565\n",
      "https://blog.naver.com/animalandhuman/222012162565\n",
      "https://blog.naver.com/wnfl3293/222026381562\n",
      "https://blog.naver.com/wnfl3293/222026381562\n",
      "https://post.naver.com/viewer/postView.nhn?volumeNo=28735429&memberNo=15627980\n",
      "https://post.naver.com/viewer/postView.nhn?volumeNo=28735429&memberNo=15627980\n",
      "https://m.tv.naver.com/v/14375287\n",
      "https://tv.naver.com/v/14717495\n",
      "https://m.tv.naver.com/v/14666481\n",
      "https://post.naver.com/viewer/postView.nhn?volumeNo=28674070&memberNo=38419283\n",
      "https://post.naver.com/viewer/postView.nhn?volumeNo=28674070&memberNo=38419283\n",
      "https://post.naver.com/viewer/postView.nhn?volumeNo=28745602&memberNo=44939664\n",
      "https://post.naver.com/viewer/postView.nhn?volumeNo=28745602&memberNo=44939664\n",
      "https://blog.naver.com/ssamii97/222024792346\n",
      "https://blog.naver.com/ssamii97/222024792346\n",
      "https://blog.naver.com/hklee2722/221969010623\n",
      "https://blog.naver.com/hklee2722/221969010623\n",
      "https://post.naver.com/viewer/postView.nhn?volumeNo=28761037&memberNo=11962895\n",
      "https://post.naver.com/viewer/postView.nhn?volumeNo=28761037&memberNo=11962895\n",
      "https://m.tv.naver.com/v/14571422\n",
      "https://m.tv.naver.com/v/14729486\n",
      "https://m.tv.naver.com/v/14303881\n",
      "https://m.post.naver.com/viewer/postView.nhn?volumeNo=28733661&memberNo=29566044&navigationType=push\n",
      "https://m.post.naver.com/viewer/postView.nhn?volumeNo=28733661&memberNo=29566044&navigationType=push\n",
      "https://post.naver.com/viewer/postView.nhn?volumeNo=28756341&memberNo=46129852\n",
      "https://post.naver.com/viewer/postView.nhn?volumeNo=28756341&memberNo=46129852\n",
      "https://blog.naver.com/edu-catdog/221973220801\n",
      "https://blog.naver.com/edu-catdog/221973220801\n",
      "https://blog.naver.com/pdj6303/222000940108\n",
      "https://blog.naver.com/pdj6303/222000940108\n",
      "https://blog.naver.com/qustjddlf77/222019673416\n",
      "https://blog.naver.com/qustjddlf77/222019673416\n",
      "https://m.tv.naver.com/v/14610619\n",
      "https://m.tv.naver.com/v/14706925\n",
      "https://m.tv.naver.com/v/14628515\n",
      "https://post.naver.com/viewer/postView.nhn?volumeNo=28764786&memberNo=15627980\n",
      "https://post.naver.com/viewer/postView.nhn?volumeNo=28764786&memberNo=15627980\n",
      "https://blog.naver.com/catitkorea/222024247864\n",
      "https://blog.naver.com/catitkorea/222024247864\n",
      "https://blog.naver.com/lool5441/222018346095\n",
      "https://blog.naver.com/lool5441/222018346095\n",
      "https://blog.naver.com/yeojin020/222023472958\n",
      "https://blog.naver.com/yeojin020/222023472958\n",
      "https://post.naver.com/viewer/postView.nhn?volumeNo=28537745&memberNo=15627980\n",
      "https://post.naver.com/viewer/postView.nhn?volumeNo=28537745&memberNo=15627980\n",
      "https://m.tv.naver.com/v/14701781\n",
      "https://tv.naver.com/v/14676318\n",
      "https://tv.naver.com/v/14666357\n",
      "https://m.post.naver.com/viewer/postView.nhn?volumeNo=28488913&memberNo=15627980\n",
      "https://m.post.naver.com/viewer/postView.nhn?volumeNo=28488913&memberNo=15627980\n",
      "https://post.naver.com/viewer/postView.nhn?volumeNo=28725733&memberNo=42118455\n",
      "https://post.naver.com/viewer/postView.nhn?volumeNo=28725733&memberNo=42118455\n",
      "https://m.post.naver.com/viewer/postView.nhn?volumeNo=28706020&memberNo=29566044&navigationType=push\n",
      "https://m.post.naver.com/viewer/postView.nhn?volumeNo=28706020&memberNo=29566044&navigationType=push\n",
      "https://blog.naver.com/animalandhuman/222026738404\n",
      "https://blog.naver.com/animalandhuman/222026738404\n",
      "https://post.naver.com/viewer/postView.nhn?volumeNo=28754566&memberNo=49649230\n",
      "https://post.naver.com/viewer/postView.nhn?volumeNo=28754566&memberNo=49649230\n",
      "https://post.naver.com/viewer/postView.nhn?volumeNo=28756990&memberNo=8199701\n",
      "https://post.naver.com/viewer/postView.nhn?volumeNo=28756990&memberNo=8199701\n",
      "https://post.naver.com/viewer/postView.nhn?volumeNo=28762410&memberNo=46287382\n",
      "https://post.naver.com/viewer/postView.nhn?volumeNo=28762410&memberNo=46287382\n",
      "https://post.naver.com/viewer/postView.nhn?volumeNo=28733876&memberNo=15627980\n",
      "https://post.naver.com/viewer/postView.nhn?volumeNo=28733876&memberNo=15627980\n",
      "https://blog.naver.com/animalandhuman/222026644500\n",
      "https://blog.naver.com/animalandhuman/222026644500\n",
      "https://post.naver.com/viewer/postView.nhn?volumeNo=28751296&memberNo=1179949\n",
      "https://post.naver.com/viewer/postView.nhn?volumeNo=28751296&memberNo=1179949\n",
      "https://post.naver.com/viewer/postView.nhn?volumeNo=28751972&memberNo=44939664\n",
      "https://post.naver.com/viewer/postView.nhn?volumeNo=28751972&memberNo=44939664\n",
      "https://post.naver.com/viewer/postView.nhn?volumeNo=28735563&memberNo=39207624\n",
      "https://post.naver.com/viewer/postView.nhn?volumeNo=28735563&memberNo=39207624\n",
      "https://blog.naver.com/ckckck2990/222026295656\n",
      "https://blog.naver.com/ckckck2990/222026295656\n",
      "https://blog.naver.com/35heaven/222025057830\n",
      "https://blog.naver.com/35heaven/222025057830\n",
      "https://blog.naver.com/nobless_love/222025260963\n",
      "https://blog.naver.com/nobless_love/222025260963\n",
      "https://post.naver.com/viewer/postView.nhn?volumeNo=28753473&memberNo=21959512\n",
      "https://post.naver.com/viewer/postView.nhn?volumeNo=28753473&memberNo=21959512\n",
      "https://post.naver.com/viewer/postView.nhn?volumeNo=28743924&memberNo=15627980\n",
      "https://post.naver.com/viewer/postView.nhn?volumeNo=28743924&memberNo=15627980\n",
      "https://post.naver.com/viewer/postView.nhn?volumeNo=28763205&memberNo=44820751\n",
      "https://post.naver.com/viewer/postView.nhn?volumeNo=28763205&memberNo=44820751\n",
      "https://post.naver.com/viewer/postView.nhn?volumeNo=28545251&memberNo=40274210\n",
      "https://post.naver.com/viewer/postView.nhn?volumeNo=28545251&memberNo=40274210\n",
      "https://blog.naver.com/animalandhuman/222001330855\n",
      "https://blog.naver.com/animalandhuman/222001330855\n",
      "https://blog.naver.com/animalandhuman/222027122182\n",
      "https://blog.naver.com/animalandhuman/222027122182\n",
      "https://post.naver.com/viewer/postView.nhn?volumeNo=28753403&memberNo=38419283\n",
      "https://post.naver.com/viewer/postView.nhn?volumeNo=28753403&memberNo=38419283\n",
      "https://post.naver.com/viewer/postView.nhn?volumeNo=28736842&memberNo=38419283\n",
      "https://post.naver.com/viewer/postView.nhn?volumeNo=28736842&memberNo=38419283\n",
      "https://blog.naver.com/petlabs/222024647294\n",
      "https://blog.naver.com/petlabs/222024647294\n",
      "https://blog.naver.com/minjaekara/222007659292\n",
      "https://blog.naver.com/minjaekara/222007659292\n",
      "https://blog.naver.com/animalandhuman/221081025234\n",
      "https://nid.naver.com/nidlogin.login?mode=form&url=https%3A%2F%2Fwww.naver.com\n",
      "https://nid.naver.com/user/help.nhn?todo=idinquiry\n",
      "https://nid.naver.com/nidreminder.form\n",
      "https://nid.naver.com/nidregister.form?url=https%3A%2F%2Fwww.naver.com\n",
      "#\n",
      "#\n",
      "https://search.naver.com/search.naver?sm=top_hty&fbm=0&ie=utf8&query=%EC%BD%94%EB%A1%9C%EB%82%9819\n",
      "http://weather.naver.com/rgn/townWetr.nhn?naverRgnCd=08230110\n",
      "http://weather.naver.com/rgn/townWetr.nhn?naverRgnCd=08230110\n",
      "https://finance.naver.com/world/sise.nhn?symbol=RUI@RTSI\n",
      "https://finance.naver.com/world/sise.nhn?symbol=XTR@DAX30\n",
      "https://finance.naver.com/world/sise.nhn?symbol=STX@SX5E\n",
      "https://finance.naver.com/marketindex/exchangeDetail.nhn?marketindexCd=FX_USDKRW\n",
      "#wrap\n",
      "https://www.naver.com/NOTICE\n",
      "more.html\n",
      "https://www.navercorp.com/service/creators\n",
      "https://www.navercorp.com/service/business\n",
      "https://business.naver.com/service.html\n",
      "https://sell.storefarm.naver.com/#/home/about\n",
      "https://smartplace.naver.com\n",
      "https://developers.naver.com\n",
      "https://developers.naver.com/docs/common/openapiguide/#/apilist.md\n",
      "https://naver.github.io\n",
      "https://d2.naver.com\n",
      "http://d2startup.com\n",
      "https://www.naverlabs.com\n",
      "http://whale.naver.com/\n",
      "http://whale.naver.com/\n",
      "https://search.naver.com/search.naver?where=nexearch&sm=top_hty&fbm=1&ie=utf8&query=%ED%94%84%EB%A1%9C%EC%A0%9D%ED%8A%B8%EA%BD%83\n",
      "https://search.naver.com/search.naver?where=nexearch&sm=top_hty&fbm=1&ie=utf8&query=%ED%94%84%EB%A1%9C%EC%A0%9D%ED%8A%B8%EA%BD%83\n",
      "https://www.navercorp.com\n",
      "https://recruit.navercorp.com/naver/recruitMain\n",
      "https://www.navercorp.com/naver/proposalGuide\n",
      "/policy/service.html\n",
      "/policy/privacy.html\n",
      "/policy/youthpolicy.html\n",
      "/policy/spamcheck.html\n",
      "https://help.naver.com/\n",
      "https://www.navercorp.com\n"
     ]
    }
   ],
   "source": [
    "# urllib를 사용하여 페이지를 읽어들이고, BeautifulSoup를 사용해서 앵커 태그 (a)로부터 href 속성을 추출한다.\n",
    "\n",
    "from bs4 import *\n",
    "from urllib.request import urlopen\n",
    "\n",
    "url = 'https://naver.com'\n",
    "html = urlopen(url).read()\n",
    "soup = BeautifulSoup(html)\n",
    "# Retrieve all of the anchor tags\n",
    "\n",
    "tags = soup('a')\n",
    "\n",
    "for tag in tags:\n",
    "    print (tag.get('href', None))\n"
   ]
  },
  {
   "cell_type": "code",
   "execution_count": null,
   "metadata": {},
   "outputs": [],
   "source": []
  }
 ],
 "metadata": {
  "kernelspec": {
   "display_name": "Python 3",
   "language": "python",
   "name": "python3"
  },
  "language_info": {
   "codemirror_mode": {
    "name": "ipython",
    "version": 3
   },
   "file_extension": ".py",
   "mimetype": "text/x-python",
   "name": "python",
   "nbconvert_exporter": "python",
   "pygments_lexer": "ipython3",
   "version": "3.7.4"
  }
 },
 "nbformat": 4,
 "nbformat_minor": 2
}
